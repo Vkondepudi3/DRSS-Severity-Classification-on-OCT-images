{
  "cells": [
    {
      "cell_type": "code",
      "execution_count": 1,
      "metadata": {
        "colab": {
          "base_uri": "https://localhost:8080/"
        },
        "id": "cl81CRa4RVTp",
        "outputId": "c09e29b0-533d-43a0-8b1e-1d3ae3288262"
      },
      "outputs": [
        {
          "name": "stdout",
          "output_type": "stream",
          "text": [
            "Mounted at /content/drive/\n"
          ]
        }
      ],
      "source": [
        "#Mounting on the device\n",
        "from google.colab import drive\n",
        "drive.mount('/content/drive/')"
      ]
    },
    {
      "cell_type": "code",
      "execution_count": 2,
      "metadata": {
        "colab": {
          "base_uri": "https://localhost:8080/"
        },
        "id": "9Lihg-P5RdnK",
        "outputId": "82961fce-44fc-4c84-f4fd-b06d3e039b50"
      },
      "outputs": [
        {
          "name": "stdout",
          "output_type": "stream",
          "text": [
            "/content/drive/MyDrive/FML_Project\n"
          ]
        }
      ],
      "source": [
        "folder_path = '/content/drive/MyDrive/FML_Project'\n",
        "print(folder_path)"
      ]
    },
    {
      "cell_type": "code",
      "execution_count": 3,
      "metadata": {
        "colab": {
          "base_uri": "https://localhost:8080/"
        },
        "id": "3b7Yhit8Rdpz",
        "outputId": "89028b1e-1b79-4985-ad9c-ac831747be83"
      },
      "outputs": [
        {
          "name": "stdout",
          "output_type": "stream",
          "text": [
            "Folder exists\n",
            "/content/drive/MyDrive/FML_Project/df_prime_test.csv\n",
            "/content/drive/MyDrive/FML_Project/df_prime_train.csv\n",
            "/content/drive/MyDrive/FML_Project/Prime_FULL\n",
            "/content/drive/MyDrive/FML_Project/resnet50_features.pkl\n",
            "/content/drive/MyDrive/FML_Project/resnet50_features_testfix.pkl\n",
            "/content/drive/MyDrive/FML_Project/resnet50_features_final.pkl\n"
          ]
        }
      ],
      "source": [
        "import os\n",
        "if os.path.isdir(folder_path):\n",
        "    print(\"Folder exists\")\n",
        "else:\n",
        "    print(\"Folder doesn't exist\")\n",
        "\n",
        "# List all files in the folder\n",
        "for file_name in os.listdir(folder_path):\n",
        "    file_path = os.path.join(folder_path, file_name)\n",
        "    print(file_path)"
      ]
    },
    {
      "cell_type": "code",
      "execution_count": 4,
      "metadata": {
        "id": "7GCrfzknSXzz"
      },
      "outputs": [],
      "source": [
        "import torch\n",
        "from torch.utils.data import Dataset,DataLoader\n",
        "from tqdm import tqdm\n",
        "from torchvision import transforms\n",
        "import numpy as np\n",
        "import pandas as pd\n",
        "from PIL import Image\n",
        "import argparse\n",
        "import os\n",
        "import copy\n",
        "import torch\n",
        "import cv2"
      ]
    },
    {
      "cell_type": "code",
      "execution_count": 5,
      "metadata": {
        "id": "ZFCT8T01SRGm"
      },
      "outputs": [],
      "source": [
        "LABELS_Severity = {35: 0,\n",
        "                   43: 0,\n",
        "                   47: 1,\n",
        "                   53: 1,\n",
        "                   61: 2,\n",
        "                   65: 2,\n",
        "                   71: 2,\n",
        "                   85: 2}\n",
        "\n",
        "\n",
        "mean = (.1706)\n",
        "std = (.2112)\n",
        "normalize = transforms.Normalize(mean=mean, std=std)\n",
        "\n",
        "transform = transforms.Compose([\n",
        "    transforms.Resize(size=(224,224)),\n",
        "    transforms.ToTensor(),\n",
        "    lambda x : x.expand(3,*x.shape[1:]),\n",
        "    normalize,\n",
        "])"
      ]
    },
    {
      "cell_type": "code",
      "execution_count": 6,
      "metadata": {
        "id": "85nnE6txSQLJ"
      },
      "outputs": [],
      "source": [
        "class OCTDataset(Dataset):\n",
        "    def __init__(self, args, subset='train', transform=None,):\n",
        "        if subset == 'train':\n",
        "            self.annot = pd.read_csv(args.annot_train_prime)\n",
        "        elif subset == 'test':\n",
        "            self.annot = pd.read_csv(args.annot_test_prime)\n",
        "            \n",
        "        self.annot['Severity_Label'] = [LABELS_Severity[drss] for drss in copy.deepcopy(self.annot['DRSS'].values)] \n",
        "        # print(self.annot)\n",
        "        self.root = os.path.expanduser(args.data_root)\n",
        "        self.transform = transform\n",
        "        # self.subset = subset\n",
        "        self.nb_classes=len(np.unique(list(LABELS_Severity.values())))\n",
        "        self.path_list = self.annot['File_Path'].values\n",
        "        self._labels = self.annot['Severity_Label'].values\n",
        "        assert len(self.path_list) == len(self._labels)\n",
        "        # idx_each_class = [[] for i in range(self.nb_classes)]\n",
        "\n",
        "    def __getitem__(self, index):\n",
        "        img, target = Image.open(self.root+self.path_list[index]).convert(\"L\"), self._labels[index]\n",
        "\n",
        "        if self.transform is not None:\n",
        "            img = self.transform(img)\n",
        "\n",
        "        return img, target\n",
        "\n",
        "    def __len__(self):\n",
        "        return len(self._labels)         "
      ]
    },
    {
      "cell_type": "code",
      "execution_count": 7,
      "metadata": {
        "id": "7Yu2VhuQRds3"
      },
      "outputs": [],
      "source": [
        "class NotebookArgs:\n",
        "    def __init__(self, annot_test_prime = \"/content/drive/MyDrive/FML_Project/df_prime_test.csv\" , annot_train_prime = \"/content/drive/MyDrive/FML_Project/df_prime_train.csv\", data_root = \"/content/drive/MyDrive/FML_Project\"):\n",
        "        self.annot_train_prime = annot_train_prime\n",
        "        self.annot_test_prime = annot_test_prime\n",
        "        self.data_root = data_root\n",
        "args = NotebookArgs()"
      ]
    },
    {
      "cell_type": "code",
      "execution_count": 8,
      "metadata": {
        "colab": {
          "base_uri": "https://localhost:8080/"
        },
        "id": "QqhizlGvRdvE",
        "outputId": "7fa7bfc9-45f2-4832-c192-c6c24e7fb569"
      },
      "outputs": [
        {
          "name": "stderr",
          "output_type": "stream",
          "text": [
            "Downloading: \"https://download.pytorch.org/models/resnet18-f37072fd.pth\" to /root/.cache/torch/hub/checkpoints/resnet18-f37072fd.pth\n",
            "100%|██████████| 44.7M/44.7M [00:00<00:00, 190MB/s]\n"
          ]
        }
      ],
      "source": [
        "import torch\n",
        "import torch.nn as nn\n",
        "import torchvision.models as models\n",
        "from torchvision.models import ResNet18_Weights\n",
        "\n",
        "# Define the ResNet50 model\n",
        "device = torch.device('cuda:0')\n",
        "model = models.resnet18(weights=ResNet18_Weights.DEFAULT)\n",
        "\n",
        "# Freeze all layers except the last \n",
        "for param in model.parameters():\n",
        "    param.requires_grad = False\n",
        "for param in model.layer4.parameters():\n",
        "    param.requires_grad = True\n",
        "\n",
        "# Replace the last fully connected layer with a new one that has 3 output features\n",
        "num_ftrs = model.fc.in_features\n",
        "model.fc = nn.Linear(num_ftrs, 3)\n",
        "\n",
        "model = model.to(device)"
      ]
    },
    {
      "cell_type": "code",
      "execution_count": 9,
      "metadata": {
        "colab": {
          "base_uri": "https://localhost:8080/"
        },
        "id": "Gv-fJA11RdxE",
        "outputId": "d022d98b-6e83-455f-9ce9-c86361f851bf"
      },
      "outputs": [
        {
          "name": "stderr",
          "output_type": "stream",
          "text": [
            "100%|██████████| 758/758 [2:25:11<00:00, 11.49s/it]\n"
          ]
        },
        {
          "name": "stdout",
          "output_type": "stream",
          "text": [
            "Epoch 1, Loss: 0.5607\n"
          ]
        },
        {
          "name": "stderr",
          "output_type": "stream",
          "text": [
            "100%|██████████| 758/758 [02:46<00:00,  4.56it/s]\n"
          ]
        },
        {
          "name": "stdout",
          "output_type": "stream",
          "text": [
            "Epoch 2, Loss: 0.6961\n"
          ]
        },
        {
          "name": "stderr",
          "output_type": "stream",
          "text": [
            "100%|██████████| 758/758 [02:40<00:00,  4.72it/s]\n"
          ]
        },
        {
          "name": "stdout",
          "output_type": "stream",
          "text": [
            "Epoch 3, Loss: 0.2741\n"
          ]
        },
        {
          "name": "stderr",
          "output_type": "stream",
          "text": [
            "100%|██████████| 758/758 [02:38<00:00,  4.78it/s]\n"
          ]
        },
        {
          "name": "stdout",
          "output_type": "stream",
          "text": [
            "Epoch 4, Loss: 0.2077\n"
          ]
        },
        {
          "name": "stderr",
          "output_type": "stream",
          "text": [
            "100%|██████████| 758/758 [02:40<00:00,  4.73it/s]\n"
          ]
        },
        {
          "name": "stdout",
          "output_type": "stream",
          "text": [
            "Epoch 5, Loss: 0.7212\n"
          ]
        },
        {
          "name": "stderr",
          "output_type": "stream",
          "text": [
            "100%|██████████| 758/758 [02:41<00:00,  4.70it/s]\n"
          ]
        },
        {
          "name": "stdout",
          "output_type": "stream",
          "text": [
            "Epoch 6, Loss: 0.2244\n"
          ]
        },
        {
          "name": "stderr",
          "output_type": "stream",
          "text": [
            "100%|██████████| 758/758 [02:39<00:00,  4.76it/s]\n"
          ]
        },
        {
          "name": "stdout",
          "output_type": "stream",
          "text": [
            "Epoch 7, Loss: 0.0895\n"
          ]
        },
        {
          "name": "stderr",
          "output_type": "stream",
          "text": [
            "100%|██████████| 758/758 [02:40<00:00,  4.71it/s]\n"
          ]
        },
        {
          "name": "stdout",
          "output_type": "stream",
          "text": [
            "Epoch 8, Loss: 0.0244\n"
          ]
        },
        {
          "name": "stderr",
          "output_type": "stream",
          "text": [
            "100%|██████████| 758/758 [02:39<00:00,  4.74it/s]\n"
          ]
        },
        {
          "name": "stdout",
          "output_type": "stream",
          "text": [
            "Epoch 9, Loss: 0.0317\n"
          ]
        },
        {
          "name": "stderr",
          "output_type": "stream",
          "text": [
            "100%|██████████| 758/758 [02:39<00:00,  4.74it/s]"
          ]
        },
        {
          "name": "stdout",
          "output_type": "stream",
          "text": [
            "Epoch 10, Loss: 0.0430\n"
          ]
        },
        {
          "name": "stderr",
          "output_type": "stream",
          "text": [
            "\n"
          ]
        }
      ],
      "source": [
        "# Define the loss function and optimizer\n",
        "criterion = nn.CrossEntropyLoss().to(device)\n",
        "optimizer = torch.optim.Adam(model.parameters(), lr=0.001)\n",
        "\n",
        "# Load the dataset and dataloaders\n",
        "train_dataset = OCTDataset(args, 'train', transform=transform)\n",
        "test_dataset = OCTDataset(args, 'test', transform=transform)\n",
        "train_loader = torch.utils.data.DataLoader(train_dataset, batch_size=32, shuffle=True)\n",
        "test_loader = torch.utils.data.DataLoader(test_dataset, batch_size=32, shuffle=True)\n",
        "\n",
        "# Train the model\n",
        "num_epochs = 10\n",
        "for epoch in range(num_epochs):\n",
        "    # Training loop\n",
        "    model.train()\n",
        "    for images, labels in tqdm(train_loader):\n",
        "        optimizer.zero_grad()\n",
        "        images = images.to(device)\n",
        "        labels= labels.to(device)\n",
        "        outputs = model(images)\n",
        "        loss = criterion(outputs, labels)\n",
        "        loss.backward()\n",
        "        optimizer.step()\n",
        "   \n",
        "    print(f\"Epoch {epoch+1}, Loss: {loss:.4f}\")"
      ]
    },
    {
      "cell_type": "code",
      "execution_count": 10,
      "metadata": {
        "colab": {
          "base_uri": "https://localhost:8080/"
        },
        "id": "lhjwAa7ERd1B",
        "outputId": "49a9b076-64ad-46d2-bcb4-8868dd20f82d"
      },
      "outputs": [
        {
          "name": "stdout",
          "output_type": "stream",
          "text": [
            "Test Acc: 43.41%\n"
          ]
        }
      ],
      "source": [
        "# Test the model\n",
        "model.eval()\n",
        "with torch.no_grad():\n",
        "    total = 0\n",
        "    correct = 0\n",
        "    for images, labels in test_loader:\n",
        "        images = images.to(device)\n",
        "        labels = labels.to(device)\n",
        "        outputs = model(images)\n",
        "        _, predicted = torch.max(outputs.data, 1)\n",
        "        total += labels.size(0)\n",
        "        correct += (predicted == labels).sum().item()\n",
        "    accuracy = 100 * correct / total\n",
        "\n",
        "print(f\"Test Acc: {accuracy:.2f}%\")"
      ]
    }
  ],
  "metadata": {
    "accelerator": "GPU",
    "colab": {
      "provenance": []
    },
    "gpuClass": "standard",
    "kernelspec": {
      "display_name": "Python 3",
      "name": "python3"
    },
    "language_info": {
      "name": "python"
    }
  },
  "nbformat": 4,
  "nbformat_minor": 0
}
