{
  "cells": [
    {
      "cell_type": "code",
      "execution_count": null,
      "id": "gAuO62pHx89s",
      "metadata": {
        "colab": {
          "base_uri": "https://localhost:8080/"
        },
        "id": "gAuO62pHx89s",
        "outputId": "3b50b439-071c-4c83-d01e-b6945755ca02"
      },
      "outputs": [
        {
          "name": "stdout",
          "output_type": "stream",
          "text": [
            "Mounted at /content/drive/\n"
          ]
        }
      ],
      "source": [
        "#mounting on to the drive\n",
        "from google.colab import drive\n",
        "drive.mount('/content/drive/')"
      ]
    },
    {
      "cell_type": "code",
      "execution_count": null,
      "id": "iBwRzp3Kx85o",
      "metadata": {
        "colab": {
          "base_uri": "https://localhost:8080/"
        },
        "id": "iBwRzp3Kx85o",
        "outputId": "1e247d0c-7de5-491e-a9ff-9d1d5e79efa4"
      },
      "outputs": [
        {
          "name": "stdout",
          "output_type": "stream",
          "text": [
            "/content/drive/MyDrive/FML_Project\n"
          ]
        }
      ],
      "source": [
        "folder_path = '/content/drive/MyDrive/FML_Project'\n",
        "print(folder_path)"
      ]
    },
    {
      "cell_type": "code",
      "execution_count": null,
      "id": "MUDw99Akx82Y",
      "metadata": {
        "colab": {
          "base_uri": "https://localhost:8080/"
        },
        "id": "MUDw99Akx82Y",
        "outputId": "1e1f1abf-94c8-4f26-fb52-527f588a6c6b"
      },
      "outputs": [
        {
          "name": "stdout",
          "output_type": "stream",
          "text": [
            "Folder exists\n",
            "/content/drive/MyDrive/FML_Project/df_prime_test.csv\n",
            "/content/drive/MyDrive/FML_Project/df_prime_train.csv\n",
            "/content/drive/MyDrive/FML_Project/Prime_FULL\n",
            "/content/drive/MyDrive/FML_Project/resnet50_features.pkl\n",
            "/content/drive/MyDrive/FML_Project/resnet50_features_testfix.pkl\n",
            "/content/drive/MyDrive/FML_Project/resnet50_features_final.pkl\n"
          ]
        }
      ],
      "source": [
        "import os\n",
        "if os.path.isdir(folder_path):\n",
        "    print(\"Folder exists\")\n",
        "else:\n",
        "    print(\"Folder doesn't exist\")\n",
        "\n",
        "# List all files in the folder\n",
        "for file_name in os.listdir(folder_path):\n",
        "    file_path = os.path.join(folder_path, file_name)\n",
        "    print(file_path)"
      ]
    },
    {
      "cell_type": "code",
      "execution_count": null,
      "id": "_AiMCJaDx8zG",
      "metadata": {
        "id": "_AiMCJaDx8zG"
      },
      "outputs": [],
      "source": [
        "class NotebookArgs:\n",
        "    def __init__(self, annot_test_prime = \"/content/drive/MyDrive/FML_Project/df_prime_test.csv\" , annot_train_prime = \"/content/drive/MyDrive/FML_Project/df_prime_train.csv\", data_root = \"/content/drive/MyDrive/FML_Project\"):\n",
        "        self.annot_train_prime = annot_train_prime\n",
        "        self.annot_test_prime = annot_test_prime\n",
        "        self.data_root = data_root\n",
        "args = NotebookArgs()"
      ]
    },
    {
      "cell_type": "code",
      "execution_count": null,
      "id": "4ec61982",
      "metadata": {
        "id": "4ec61982"
      },
      "outputs": [],
      "source": [
        "import torch\n",
        "import torchvision\n",
        "from torch.utils.data import Dataset,DataLoader\n",
        "from tqdm import tqdm\n",
        "from torchvision import transforms\n",
        "import numpy as np\n",
        "import pandas as pd\n",
        "from PIL import Image\n",
        "import argparse\n",
        "import os\n",
        "import copy\n",
        "import torch\n",
        "import cv2"
      ]
    },
    {
      "cell_type": "code",
      "execution_count": null,
      "id": "d2137d21",
      "metadata": {
        "id": "d2137d21"
      },
      "outputs": [],
      "source": [
        "LABELS_Severity = {35: 0,\n",
        "                   43: 0,\n",
        "                   47: 1,\n",
        "                   53: 1,\n",
        "                   61: 2,\n",
        "                   65: 2,\n",
        "                   71: 2,\n",
        "                   85: 2}\n",
        "mean = (.1706)\n",
        "std = (.2112)\n",
        "normalize = transforms.Normalize(mean=mean, std=std)\n",
        "\n",
        "transform = transforms.Compose([\n",
        "    transforms.Resize(size=(224,224)),\n",
        "    transforms.ToTensor(),\n",
        "    lambda x : x.expand(3,*x.shape[1:]),\n",
        "    normalize,\n",
        "])"
      ]
    },
    {
      "cell_type": "code",
      "execution_count": null,
      "id": "60e7543b",
      "metadata": {
        "id": "60e7543b"
      },
      "outputs": [],
      "source": [
        "class OCTDataset(Dataset):\n",
        "    def __init__(self, args, subset='train', transform=None,):\n",
        "        if subset == 'train':\n",
        "            self.annot = pd.read_csv(args.annot_train_prime)\n",
        "        elif subset == 'test':\n",
        "            self.annot = pd.read_csv(args.annot_test_prime)\n",
        "            \n",
        "        self.annot['Severity_Label'] = [LABELS_Severity[drss] for drss in copy.deepcopy(self.annot['DRSS'].values)] \n",
        "        # print(self.annot)\n",
        "        self.root = os.path.expanduser(args.data_root)\n",
        "        self.transform = transform\n",
        "        # self.subset = subset\n",
        "        self.nb_classes=len(np.unique(list(LABELS_Severity.values())))\n",
        "        self.path_list = self.annot['File_Path'].values\n",
        "        self._labels = self.annot['Severity_Label'].values\n",
        "        assert len(self.path_list) == len(self._labels)\n",
        "        # idx_each_class = [[] for i in range(self.nb_classes)]\n",
        "\n",
        "    def __getitem__(self, index):\n",
        "        img, target = Image.open(self.root+self.path_list[index]).convert(\"L\"), self._labels[index]\n",
        "\n",
        "        if self.transform is not None:\n",
        "            img = self.transform(img)\n",
        "\n",
        "        return img, target\n",
        "\n",
        "    def __len__(self):\n",
        "        return len(self._labels)         "
      ]
    },
    {
      "cell_type": "code",
      "execution_count": null,
      "id": "547fb145",
      "metadata": {
        "colab": {
          "base_uri": "https://localhost:8080/"
        },
        "id": "547fb145",
        "outputId": "5a321103-e6e3-4353-8ce1-051af0428a67"
      },
      "outputs": [
        {
          "name": "stderr",
          "output_type": "stream",
          "text": [
            "/usr/local/lib/python3.9/dist-packages/torch/utils/data/dataloader.py:561: UserWarning: This DataLoader will create 4 worker processes in total. Our suggested max number of worker in current system is 2, which is smaller than what this DataLoader is going to create. Please be aware that excessive worker creation might get DataLoader running slow or even freeze, lower the worker number to avoid potential slowness/freeze if necessary.\n",
            "  warnings.warn(_create_warning_msg(\n"
          ]
        }
      ],
      "source": [
        "#Loading the dataset\n",
        "trainset = OCTDataset(args, 'train', transform=transform)\n",
        "testset = OCTDataset(args, 'test', transform=transform)\n",
        "\n",
        "# Define hyperparameters\n",
        "batch_size = 128\n",
        "num_epochs = 1\n",
        "\n",
        "train_loader = DataLoader(trainset, batch_size=batch_size, shuffle=False, num_workers=4, pin_memory=True)\n",
        "test_loader = DataLoader(testset, batch_size=batch_size, shuffle=False, num_workers=4, pin_memory=True)"
      ]
    },
    {
      "cell_type": "code",
      "execution_count": null,
      "id": "109e842b",
      "metadata": {
        "colab": {
          "base_uri": "https://localhost:8080/"
        },
        "id": "109e842b",
        "outputId": "0c9de31b-5c67-4297-928b-958606d2af8f"
      },
      "outputs": [
        {
          "name": "stderr",
          "output_type": "stream",
          "text": [
            "/usr/local/lib/python3.9/dist-packages/torchvision/models/_utils.py:208: UserWarning: The parameter 'pretrained' is deprecated since 0.13 and may be removed in the future, please use 'weights' instead.\n",
            "  warnings.warn(\n",
            "/usr/local/lib/python3.9/dist-packages/torchvision/models/_utils.py:223: UserWarning: Arguments other than a weight enum or `None` for 'weights' are deprecated since 0.13 and may be removed in the future. The current behavior is equivalent to passing `weights=ResNet50_Weights.IMAGENET1K_V1`. You can also use `weights=ResNet50_Weights.DEFAULT` to get the most up-to-date weights.\n",
            "  warnings.warn(msg)\n",
            "Downloading: \"https://download.pytorch.org/models/resnet50-0676ba61.pth\" to /root/.cache/torch/hub/checkpoints/resnet50-0676ba61.pth\n",
            "100%|██████████| 97.8M/97.8M [00:00<00:00, 230MB/s]\n"
          ]
        }
      ],
      "source": [
        "#implementing resnet 50 feature extractor\n",
        "device = torch.device('cuda:0')\n",
        "resnet50 = torchvision.models.resnet50(pretrained=True)\n",
        "model = torch.nn.Sequential(*list(resnet50.children())[:-1]).eval().to(device)"
      ]
    },
    {
      "cell_type": "code",
      "execution_count": null,
      "id": "d67a8286",
      "metadata": {
        "id": "d67a8286"
      },
      "outputs": [],
      "source": [
        "def get_X_y_from_loader(loader):\n",
        "    all_features = []\n",
        "    all_labels = []\n",
        "    for local_batch, local_labels in tqdm(loader):\n",
        "        local_batch = local_batch.to(device)\n",
        "        batched_features = model(local_batch).detach().cpu()\n",
        "        flat_features = [image.flatten().numpy() for image in batched_features]\n",
        "        flat_labels = [label.item() for label in local_labels]\n",
        "        all_features.extend(flat_features)\n",
        "        all_labels.extend(flat_labels)\n",
        "    return all_features, all_labels"
      ]
    },
    {
      "cell_type": "code",
      "execution_count": null,
      "id": "1b0e4c77",
      "metadata": {
        "colab": {
          "base_uri": "https://localhost:8080/"
        },
        "id": "1b0e4c77",
        "outputId": "a528a558-acbd-4f49-ea66-6ec8acecb35f"
      },
      "outputs": [
        {
          "name": "stderr",
          "output_type": "stream",
          "text": [
            "100%|██████████| 190/190 [34:02<00:00, 10.75s/it]\n",
            "100%|██████████| 63/63 [11:22<00:00, 10.83s/it]\n"
          ]
        }
      ],
      "source": [
        "X_train, y_train = get_X_y_from_loader(train_loader)\n",
        "X_test, y_test = get_X_y_from_loader(test_loader)"
      ]
    },
    {
      "cell_type": "code",
      "execution_count": null,
      "id": "6c83d0e2",
      "metadata": {
        "colab": {
          "base_uri": "https://localhost:8080/",
          "height": 92
        },
        "id": "6c83d0e2",
        "outputId": "6687f31c-e1b8-4977-f332-0707d594d31e"
      },
      "outputs": [
        {
          "data": {
            "text/html": [
              "<style>#sk-container-id-1 {color: black;background-color: white;}#sk-container-id-1 pre{padding: 0;}#sk-container-id-1 div.sk-toggleable {background-color: white;}#sk-container-id-1 label.sk-toggleable__label {cursor: pointer;display: block;width: 100%;margin-bottom: 0;padding: 0.3em;box-sizing: border-box;text-align: center;}#sk-container-id-1 label.sk-toggleable__label-arrow:before {content: \"▸\";float: left;margin-right: 0.25em;color: #696969;}#sk-container-id-1 label.sk-toggleable__label-arrow:hover:before {color: black;}#sk-container-id-1 div.sk-estimator:hover label.sk-toggleable__label-arrow:before {color: black;}#sk-container-id-1 div.sk-toggleable__content {max-height: 0;max-width: 0;overflow: hidden;text-align: left;background-color: #f0f8ff;}#sk-container-id-1 div.sk-toggleable__content pre {margin: 0.2em;color: black;border-radius: 0.25em;background-color: #f0f8ff;}#sk-container-id-1 input.sk-toggleable__control:checked~div.sk-toggleable__content {max-height: 200px;max-width: 100%;overflow: auto;}#sk-container-id-1 input.sk-toggleable__control:checked~label.sk-toggleable__label-arrow:before {content: \"▾\";}#sk-container-id-1 div.sk-estimator input.sk-toggleable__control:checked~label.sk-toggleable__label {background-color: #d4ebff;}#sk-container-id-1 div.sk-label input.sk-toggleable__control:checked~label.sk-toggleable__label {background-color: #d4ebff;}#sk-container-id-1 input.sk-hidden--visually {border: 0;clip: rect(1px 1px 1px 1px);clip: rect(1px, 1px, 1px, 1px);height: 1px;margin: -1px;overflow: hidden;padding: 0;position: absolute;width: 1px;}#sk-container-id-1 div.sk-estimator {font-family: monospace;background-color: #f0f8ff;border: 1px dotted black;border-radius: 0.25em;box-sizing: border-box;margin-bottom: 0.5em;}#sk-container-id-1 div.sk-estimator:hover {background-color: #d4ebff;}#sk-container-id-1 div.sk-parallel-item::after {content: \"\";width: 100%;border-bottom: 1px solid gray;flex-grow: 1;}#sk-container-id-1 div.sk-label:hover label.sk-toggleable__label {background-color: #d4ebff;}#sk-container-id-1 div.sk-serial::before {content: \"\";position: absolute;border-left: 1px solid gray;box-sizing: border-box;top: 0;bottom: 0;left: 50%;z-index: 0;}#sk-container-id-1 div.sk-serial {display: flex;flex-direction: column;align-items: center;background-color: white;padding-right: 0.2em;padding-left: 0.2em;position: relative;}#sk-container-id-1 div.sk-item {position: relative;z-index: 1;}#sk-container-id-1 div.sk-parallel {display: flex;align-items: stretch;justify-content: center;background-color: white;position: relative;}#sk-container-id-1 div.sk-item::before, #sk-container-id-1 div.sk-parallel-item::before {content: \"\";position: absolute;border-left: 1px solid gray;box-sizing: border-box;top: 0;bottom: 0;left: 50%;z-index: -1;}#sk-container-id-1 div.sk-parallel-item {display: flex;flex-direction: column;z-index: 1;position: relative;background-color: white;}#sk-container-id-1 div.sk-parallel-item:first-child::after {align-self: flex-end;width: 50%;}#sk-container-id-1 div.sk-parallel-item:last-child::after {align-self: flex-start;width: 50%;}#sk-container-id-1 div.sk-parallel-item:only-child::after {width: 0;}#sk-container-id-1 div.sk-dashed-wrapped {border: 1px dashed gray;margin: 0 0.4em 0.5em 0.4em;box-sizing: border-box;padding-bottom: 0.4em;background-color: white;}#sk-container-id-1 div.sk-label label {font-family: monospace;font-weight: bold;display: inline-block;line-height: 1.2em;}#sk-container-id-1 div.sk-label-container {text-align: center;}#sk-container-id-1 div.sk-container {/* jupyter's `normalize.less` sets `[hidden] { display: none; }` but bootstrap.min.css set `[hidden] { display: none !important; }` so we also need the `!important` here to be able to override the default hidden behavior on the sphinx rendered scikit-learn.org. See: https://github.com/scikit-learn/scikit-learn/issues/21755 */display: inline-block !important;position: relative;}#sk-container-id-1 div.sk-text-repr-fallback {display: none;}</style><div id=\"sk-container-id-1\" class=\"sk-top-container\"><div class=\"sk-text-repr-fallback\"><pre>LogisticRegression(C=10, class_weight=&#x27;balanced&#x27;, multi_class=&#x27;ovr&#x27;,\n",
              "                   solver=&#x27;liblinear&#x27;)</pre><b>In a Jupyter environment, please rerun this cell to show the HTML representation or trust the notebook. <br />On GitHub, the HTML representation is unable to render, please try loading this page with nbviewer.org.</b></div><div class=\"sk-container\" hidden><div class=\"sk-item\"><div class=\"sk-estimator sk-toggleable\"><input class=\"sk-toggleable__control sk-hidden--visually\" id=\"sk-estimator-id-1\" type=\"checkbox\" checked><label for=\"sk-estimator-id-1\" class=\"sk-toggleable__label sk-toggleable__label-arrow\">LogisticRegression</label><div class=\"sk-toggleable__content\"><pre>LogisticRegression(C=10, class_weight=&#x27;balanced&#x27;, multi_class=&#x27;ovr&#x27;,\n",
              "                   solver=&#x27;liblinear&#x27;)</pre></div></div></div></div></div>"
            ],
            "text/plain": [
              "LogisticRegression(C=10, class_weight='balanced', multi_class='ovr',\n",
              "                   solver='liblinear')"
            ]
          },
          "execution_count": 12,
          "metadata": {},
          "output_type": "execute_result"
        }
      ],
      "source": [
        "#implementing logisitc regression\n",
        "from sklearn.linear_model import LogisticRegression\n",
        "\n",
        "# Instantiate the logistic regression model\n",
        "lr_model = LogisticRegression(C=10, class_weight='balanced', penalty='l2', solver='liblinear', multi_class='ovr')\n",
        "\n",
        "# Fit the model to the training data\n",
        "lr_model.fit(X_train, y_train)"
      ]
    },
    {
      "cell_type": "code",
      "execution_count": null,
      "id": "3106fbcc",
      "metadata": {
        "colab": {
          "base_uri": "https://localhost:8080/"
        },
        "id": "3106fbcc",
        "outputId": "2a8062b7-34b5-4b5f-ef0c-a648712f1254"
      },
      "outputs": [
        {
          "name": "stdout",
          "output_type": "stream",
          "text": [
            "Balanced accuracy score: 0.33721134855927487\n",
            "Precision score: 0.38344861336048935\n",
            "Recall score: 0.38224614999373985\n",
            "F1 score weighted: 0.38278373481201944\n",
            "F1 score Micro: 0.38224614999373985\n",
            "F1 score Macro: 0.3367679860898461\n"
          ]
        }
      ],
      "source": [
        "y_pred = lr_model.predict(X_test)\n",
        "\n",
        "from sklearn.metrics import balanced_accuracy_score, precision_score, recall_score, f1_score\n",
        "\n",
        "# Calculate balanced accuracy score\n",
        "balanced_acc = balanced_accuracy_score(y_test, y_pred)\n",
        "print(\"Balanced accuracy score:\", balanced_acc)\n",
        "\n",
        "# Calculate precision score\n",
        "precision = precision_score(y_test, y_pred,average='weighted')\n",
        "print(\"Precision score:\", precision)\n",
        "\n",
        "# Calculate recall score\n",
        "recall = recall_score(y_test, y_pred,average='weighted')\n",
        "print(\"Recall score:\", recall)\n",
        "\n",
        "# Calculate f1 score\n",
        "f1 = f1_score(y_test, y_pred,average='weighted')\n",
        "print(\"F1 score weighted:\", f1)\n",
        "\n",
        "# Calculate f1 score\n",
        "f1 = f1_score(y_test, y_pred,average='micro')\n",
        "print(\"F1 score Micro:\", f1)\n",
        "\n",
        "# Calculate f1 score\n",
        "f1 = f1_score(y_test, y_pred,average='macro')\n",
        "print(\"F1 score Macro:\", f1)"
      ]
    },
    {
      "cell_type": "code",
      "execution_count": null,
      "id": "4bbe0035",
      "metadata": {
        "colab": {
          "base_uri": "https://localhost:8080/"
        },
        "id": "4bbe0035",
        "outputId": "27ecf97d-c4a1-4b7e-bfb2-f20af05069d7"
      },
      "outputs": [
        {
          "name": "stdout",
          "output_type": "stream",
          "text": [
            "      0     1    2\n",
            "0   908  1317  323\n",
            "1  1072  2278  570\n",
            "2   470   890  159\n"
          ]
        }
      ],
      "source": [
        "from sklearn.metrics import confusion_matrix\n",
        "import pandas as pd\n",
        "labels = [0, 1, 2]  # label names\n",
        "\n",
        "cm = confusion_matrix(y_test, y_pred, labels=labels)\n",
        "\n",
        "cm_df = pd.DataFrame(cm, index=labels, columns=labels)\n",
        "\n",
        "print(cm_df)"
      ]
    },
    {
      "cell_type": "code",
      "execution_count": null,
      "id": "517a8a50",
      "metadata": {
        "id": "517a8a50"
      },
      "outputs": [],
      "source": [
        "with open('svm_resnet50_77.pkl', 'wb') as f:\n",
        "    pickle.dump(clf, f)"
      ]
    }
  ],
  "metadata": {
    "accelerator": "GPU",
    "colab": {
      "provenance": []
    },
    "gpuClass": "standard",
    "kernelspec": {
      "display_name": "Python 3 (ipykernel)",
      "language": "python",
      "name": "python3"
    },
    "language_info": {
      "codemirror_mode": {
        "name": "ipython",
        "version": 3
      },
      "file_extension": ".py",
      "mimetype": "text/x-python",
      "name": "python",
      "nbconvert_exporter": "python",
      "pygments_lexer": "ipython3",
      "version": "3.9.12"
    }
  },
  "nbformat": 4,
  "nbformat_minor": 5
}
